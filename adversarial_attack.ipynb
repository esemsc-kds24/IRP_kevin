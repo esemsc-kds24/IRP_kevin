{
  "nbformat": 4,
  "nbformat_minor": 0,
  "metadata": {
    "colab": {
      "provenance": [],
      "machine_shape": "hm",
      "gpuType": "A100",
      "mount_file_id": "1dGkr4AcNgBxWhO8vfhD_A_SdTF2yYq5P",
      "authorship_tag": "ABX9TyND9S00DgXJv0NUTgyaIq5m"
    },
    "kernelspec": {
      "name": "python3",
      "display_name": "Python 3"
    },
    "language_info": {
      "name": "python"
    },
    "accelerator": "GPU"
  },
  "cells": [
    {
      "cell_type": "markdown",
      "source": [
        "## Adversarial Attacks: Example"
      ],
      "metadata": {
        "id": "joQ7WwQj3pf-"
      }
    },
    {
      "cell_type": "markdown",
      "source": [
        "### FGSM (Fast Gradient Sign Method):"
      ],
      "metadata": {
        "id": "rUavszuw4Uno"
      }
    },
    {
      "cell_type": "markdown",
      "source": [
        "#### Explanation\n",
        "Model Training:\n",
        "A simple CNN is defined and trained on the MNIST dataset. The training loop is kept brief for demonstration.\n",
        "\n",
        "#### FGSM Attack:\n",
        "The fgsm_attack function creates an adversarial example by adding noise proportional to the sign of the gradient of the loss with respect to the input image. Even a small epsilon value can sometimes cause the model to misclassify.\n",
        "\n",
        "#### Evaluation:\n",
        "The test_adversarial function applies the FGSM attack to each test image (only if it was initially classified correctly) and checks whether the adversarial example fools the model.\n",
        "\n",
        "#### Visualization:\n",
        "The code plots a few adversarial examples for different epsilon values, showing the change in prediction.\n",
        "\n",
        "This example provides a basic starting point to study adversarial attacks in deep learning. You can experiment with different epsilon values or attack methods to further explore the vulnerabilities of neural networks."
      ],
      "metadata": {
        "id": "Z-QvKuhl32zn"
      }
    },
    {
      "cell_type": "code",
      "execution_count": null,
      "metadata": {
        "colab": {
          "base_uri": "https://localhost:8080/"
        },
        "id": "DJqDqpUhu9U3",
        "outputId": "00a93aad-0c85-4306-8fcc-f9fc21b6c71a"
      },
      "outputs": [
        {
          "output_type": "stream",
          "name": "stderr",
          "text": [
            "100%|██████████| 9.91M/9.91M [00:00<00:00, 13.2MB/s]\n",
            "100%|██████████| 28.9k/28.9k [00:00<00:00, 451kB/s]\n",
            "100%|██████████| 1.65M/1.65M [00:00<00:00, 4.07MB/s]\n",
            "100%|██████████| 4.54k/4.54k [00:00<00:00, 9.72MB/s]\n"
          ]
        },
        {
          "output_type": "stream",
          "name": "stdout",
          "text": [
            "Epoch [1], Step [100/938], Loss: 0.3963\n",
            "Epoch [1], Step [200/938], Loss: 0.2901\n",
            "Epoch [1], Step [300/938], Loss: 0.1396\n",
            "Epoch [1], Step [400/938], Loss: 0.1234\n",
            "Epoch [1], Step [500/938], Loss: 0.1901\n",
            "Epoch [1], Step [600/938], Loss: 0.1156\n",
            "Epoch [1], Step [700/938], Loss: 0.0840\n",
            "Epoch [1], Step [800/938], Loss: 0.1001\n",
            "Epoch [1], Step [900/938], Loss: 0.1077\n"
          ]
        }
      ],
      "source": [
        "import torch\n",
        "import torch.nn as nn\n",
        "import torch.optim as optim\n",
        "import torchvision\n",
        "import torchvision.transforms as transforms\n",
        "\n",
        "# Define a simple CNN for MNIST\n",
        "class SimpleCNN(nn.Module):\n",
        "    def __init__(self):\n",
        "        super(SimpleCNN, self).__init__()\n",
        "        self.conv = nn.Sequential(\n",
        "            nn.Conv2d(1, 32, kernel_size=3, stride=1, padding=1),  # input: 1x28x28, output: 32x28x28\n",
        "            nn.ReLU(),\n",
        "            nn.MaxPool2d(2)  # output: 32x14x14\n",
        "        )\n",
        "        self.fc = nn.Sequential(\n",
        "            nn.Linear(32 * 14 * 14, 128),\n",
        "            nn.ReLU(),\n",
        "            nn.Linear(128, 10)  # 10 classes for MNIST digits\n",
        "        )\n",
        "\n",
        "    def forward(self, x):\n",
        "        x = self.conv(x)\n",
        "        x = x.view(x.size(0), -1)  # flatten\n",
        "        x = self.fc(x)\n",
        "        return x\n",
        "\n",
        "# Prepare the MNIST dataset\n",
        "transform = transforms.Compose([transforms.ToTensor()])\n",
        "\n",
        "train_dataset = torchvision.datasets.MNIST(root='./data', train=True, download=True, transform=transform)\n",
        "test_dataset  = torchvision.datasets.MNIST(root='./data', train=False, download=True, transform=transform)\n",
        "train_loader  = torch.utils.data.DataLoader(dataset=train_dataset, batch_size=64, shuffle=True)\n",
        "test_loader   = torch.utils.data.DataLoader(dataset=test_dataset, batch_size=1, shuffle=True)\n",
        "\n",
        "# Initialize model, loss function and optimizer\n",
        "model = SimpleCNN()\n",
        "criterion = nn.CrossEntropyLoss()\n",
        "optimizer = optim.Adam(model.parameters(), lr=0.001)\n",
        "\n",
        "# Train the model (only one epoch for demonstration)\n",
        "model.train()\n",
        "for epoch in range(1):\n",
        "    for i, (images, labels) in enumerate(train_loader):\n",
        "        optimizer.zero_grad()\n",
        "        outputs = model(images)\n",
        "        loss = criterion(outputs, labels)\n",
        "        loss.backward()\n",
        "        optimizer.step()\n",
        "        if (i+1) % 100 == 0:\n",
        "            print(f'Epoch [{epoch+1}], Step [{i+1}/{len(train_loader)}], Loss: {loss.item():.4f}')"
      ]
    },
    {
      "cell_type": "code",
      "source": [
        "# Define FGSM attack function\n",
        "def fgsm_attack(image, epsilon, data_grad):\n",
        "    # Get the sign of the gradients\n",
        "    sign_data_grad = data_grad.sign()\n",
        "    # Create the perturbed image by adjusting each pixel of the input image\n",
        "    perturbed_image = image + epsilon * sign_data_grad\n",
        "    # Clamp the perturbed image to maintain valid pixel range [0, 1]\n",
        "    perturbed_image = torch.clamp(perturbed_image, 0, 1)\n",
        "    return perturbed_image\n",
        "\n",
        "# Function to test the model under adversarial attack\n",
        "def test_adversarial(model, device, test_loader, epsilon):\n",
        "    model.eval()\n",
        "    correct = 0\n",
        "    adv_examples = []\n",
        "\n",
        "    for data, target in test_loader:\n",
        "        data, target = data.to(device), target.to(device)\n",
        "        data.requires_grad = True\n",
        "\n",
        "        # Forward pass\n",
        "        output = model(data)\n",
        "        init_pred = output.max(1, keepdim=True)[1]  # original prediction\n",
        "\n",
        "        # Only attack if the model correctly classifies the image\n",
        "        if init_pred.item() != target.item():\n",
        "            continue\n",
        "\n",
        "        # Calculate loss and backpropagate to get gradient on the input data\n",
        "        loss = criterion(output, target)\n",
        "        model.zero_grad()\n",
        "        loss.backward()\n",
        "        data_grad = data.grad.data\n",
        "\n",
        "        # Generate adversarial example using FGSM\n",
        "        perturbed_data = fgsm_attack(data, epsilon, data_grad)\n",
        "        output_adv = model(perturbed_data)\n",
        "        final_pred = output_adv.max(1, keepdim=True)[1]\n",
        "\n",
        "        if final_pred.item() == target.item():\n",
        "            correct += 1\n",
        "        # Save some examples for visualization (only saving first few)\n",
        "        if len(adv_examples) < 5:\n",
        "            adv_ex = perturbed_data.squeeze().detach().cpu().numpy()\n",
        "            adv_examples.append((init_pred.item(), final_pred.item(), adv_ex))\n",
        "\n",
        "    final_acc = correct / float(len(test_loader))\n",
        "    print(f\"Epsilon: {epsilon}\\tTest Accuracy = {correct} / {len(test_loader)} = {final_acc:.4f}\")\n",
        "    return final_acc, adv_examples\n",
        "\n",
        "# Set device (GPU if available)\n",
        "device = torch.device(\"cuda\" if torch.cuda.is_available() else \"cpu\")\n",
        "model.to(device)\n",
        "\n",
        "# Evaluate the model under adversarial attacks with varying perturbation sizes\n",
        "epsilons = [0, 0.05, 0.1, 0.15, 0.2, 0.25, 0.3]\n",
        "accuracies = []\n",
        "examples = []\n",
        "\n",
        "for eps in epsilons:\n",
        "    acc, ex = test_adversarial(model, device, test_loader, eps)\n",
        "    accuracies.append(acc)\n",
        "    examples.append(ex)"
      ],
      "metadata": {
        "colab": {
          "base_uri": "https://localhost:8080/"
        },
        "id": "dZg5YH8JvBMi",
        "outputId": "425acec3-c5c7-4840-8b89-7ac460774c1f"
      },
      "execution_count": null,
      "outputs": [
        {
          "output_type": "stream",
          "name": "stdout",
          "text": [
            "Epsilon: 0\tTest Accuracy = 9744 / 10000 = 0.9744\n",
            "Epsilon: 0.05\tTest Accuracy = 9125 / 10000 = 0.9125\n",
            "Epsilon: 0.1\tTest Accuracy = 7301 / 10000 = 0.7301\n",
            "Epsilon: 0.15\tTest Accuracy = 4106 / 10000 = 0.4106\n",
            "Epsilon: 0.2\tTest Accuracy = 1416 / 10000 = 0.1416\n",
            "Epsilon: 0.25\tTest Accuracy = 338 / 10000 = 0.0338\n",
            "Epsilon: 0.3\tTest Accuracy = 63 / 10000 = 0.0063\n"
          ]
        }
      ]
    },
    {
      "cell_type": "code",
      "source": [
        "import matplotlib.pyplot as plt\n",
        "\n",
        "fig, axes = plt.subplots(1, len(epsilons), figsize=(15, 3))\n",
        "for i, eps in enumerate(epsilons):\n",
        "    if len(examples[i]) > 0:\n",
        "        init_pred, final_pred, adv_ex = examples[i][0]\n",
        "        axes[i].imshow(adv_ex, cmap=\"gray\")\n",
        "        axes[i].set_title(f\"Eps: {eps}\\nOrig: {init_pred}\\nAdv: {final_pred}\")\n",
        "        axes[i].axis('off')\n",
        "    else:\n",
        "        axes[i].set_title(f\"Eps: {eps}\\nNo adv example\")\n",
        "        axes[i].axis('off')\n",
        "plt.tight_layout()\n",
        "plt.show()"
      ],
      "metadata": {
        "colab": {
          "base_uri": "https://localhost:8080/",
          "height": 231
        },
        "id": "dMJTozY2v6cI",
        "outputId": "5c02fdc0-c10c-4030-ce7d-a8e41e9d3b76"
      },
      "execution_count": null,
      "outputs": [
        {
          "output_type": "display_data",
          "data": {
            "text/plain": [
              "<Figure size 1500x300 with 7 Axes>"
            ],
            "image/png": "[encoded data removed]"
          },
          "metadata": {}
        }
      ]
    },
    {
      "cell_type": "markdown",
      "source": [
        "---"
      ],
      "metadata": {
        "id": "W12a1Lmyxai0"
      }
    },
    {
      "cell_type": "markdown",
      "source": [
        "### PGD (Projected Gradient Descent)"
      ],
      "metadata": {
        "id": "XspBBhgH4GBn"
      }
    },
    {
      "cell_type": "markdown",
      "source": [
        "#### Explanation\n",
        "Model Training:\n",
        "The CNN model is trained on the MNIST dataset. (Here, we use a single epoch for demonstration purposes.)\n",
        "\n",
        "#### PGD Attack:\n",
        "The pgd_attack function starts from a randomly perturbed image (within the allowed epsilon range) and iteratively refines the perturbation. The update step uses the gradient sign multiplied by a small step size (alpha), and after each step, the perturbed image is projected back into the valid range of both the input pixel values and the epsilon-ball around the original image.\n",
        "\n",
        "#### Evaluation and Visualization:\n",
        "The test_pgd function applies the attack to test images and calculates the accuracy of the adversarial examples. A few examples are saved and later visualized to see how the perturbations affect the predictions.\n",
        "\n",
        "This example should give you another perspective on how adversarial attacks work, this time through an iterative method that is generally more robust than the one-step FGSM approach. Enjoy experimenting with it—and feel free to modify parameters like epsilon, alpha, or num_iter to see their effects on the adversarial examples!"
      ],
      "metadata": {
        "id": "r98rR8pO4Fxy"
      }
    },
    {
      "cell_type": "code",
      "source": [
        "import torch\n",
        "import torch.nn as nn\n",
        "import torch.optim as optim\n",
        "import torchvision\n",
        "import torchvision.transforms as transforms\n",
        "import matplotlib.pyplot as plt\n",
        "\n",
        "# Simple CNN model definition\n",
        "class SimpleCNN(nn.Module):\n",
        "    def __init__(self):\n",
        "        super(SimpleCNN, self).__init__()\n",
        "        self.conv = nn.Sequential(\n",
        "            nn.Conv2d(1, 32, kernel_size=3, stride=1, padding=1),  # 1x28x28 -> 32x28x28\n",
        "            nn.ReLU(),\n",
        "            nn.MaxPool2d(2)  # 32x28x28 -> 32x14x14\n",
        "        )\n",
        "        self.fc = nn.Sequential(\n",
        "            nn.Linear(32 * 14 * 14, 128),\n",
        "            nn.ReLU(),\n",
        "            nn.Linear(128, 10)  # 10 classes for MNIST digits\n",
        "        )\n",
        "\n",
        "    def forward(self, x):\n",
        "        x = self.conv(x)\n",
        "        x = x.view(x.size(0), -1)  # flatten\n",
        "        x = self.fc(x)\n",
        "        return x\n",
        "\n",
        "# Data preparation\n",
        "transform = transforms.Compose([transforms.ToTensor()])\n",
        "\n",
        "train_dataset = torchvision.datasets.MNIST(root='./data', train=True, download=True, transform=transform)\n",
        "test_dataset  = torchvision.datasets.MNIST(root='./data', train=False, download=True, transform=transform)\n",
        "train_loader  = torch.utils.data.DataLoader(dataset=train_dataset, batch_size=64, shuffle=True)\n",
        "test_loader   = torch.utils.data.DataLoader(dataset=test_dataset, batch_size=1, shuffle=True)\n",
        "\n",
        "# Initialize model, loss and optimizer\n",
        "model = SimpleCNN()\n",
        "criterion = nn.CrossEntropyLoss()\n",
        "optimizer = optim.Adam(model.parameters(), lr=0.001)\n",
        "\n",
        "# Train the model (1 epoch for demonstration)\n",
        "model.train()\n",
        "for epoch in range(1):\n",
        "    for i, (images, labels) in enumerate(train_loader):\n",
        "        optimizer.zero_grad()\n",
        "        outputs = model(images)\n",
        "        loss = criterion(outputs, labels)\n",
        "        loss.backward()\n",
        "        optimizer.step()\n",
        "        if (i+1) % 100 == 0:\n",
        "            print(f'Epoch [{epoch+1}], Step [{i+1}/{len(train_loader)}], Loss: {loss.item():.4f}')"
      ],
      "metadata": {
        "colab": {
          "base_uri": "https://localhost:8080/"
        },
        "id": "KbrxBP3fwlyg",
        "outputId": "2f19cde8-1a26-45d7-8c34-50aa5deba7b0"
      },
      "execution_count": null,
      "outputs": [
        {
          "output_type": "stream",
          "name": "stderr",
          "text": [
            "100%|██████████| 9.91M/9.91M [00:00<00:00, 57.9MB/s]\n",
            "100%|██████████| 28.9k/28.9k [00:00<00:00, 1.62MB/s]\n",
            "100%|██████████| 1.65M/1.65M [00:00<00:00, 14.4MB/s]\n",
            "100%|██████████| 4.54k/4.54k [00:00<00:00, 9.03MB/s]\n"
          ]
        },
        {
          "output_type": "stream",
          "name": "stdout",
          "text": [
            "Epoch [1], Step [100/938], Loss: 0.3400\n",
            "Epoch [1], Step [200/938], Loss: 0.1686\n",
            "Epoch [1], Step [300/938], Loss: 0.1259\n",
            "Epoch [1], Step [400/938], Loss: 0.2774\n",
            "Epoch [1], Step [500/938], Loss: 0.1165\n",
            "Epoch [1], Step [600/938], Loss: 0.1555\n",
            "Epoch [1], Step [700/938], Loss: 0.2304\n",
            "Epoch [1], Step [800/938], Loss: 0.3587\n",
            "Epoch [1], Step [900/938], Loss: 0.0429\n"
          ]
        }
      ]
    },
    {
      "cell_type": "code",
      "source": [
        "def pgd_attack(model, images, labels, epsilon, alpha, num_iter):\n",
        "    # Save the original images for projection\n",
        "    ori_images = images.clone().detach()\n",
        "    # Start with a random perturbation within the epsilon-ball\n",
        "    perturbed_images = images + torch.empty_like(images).uniform_(-epsilon, epsilon)\n",
        "    perturbed_images = torch.clamp(perturbed_images, 0, 1)\n",
        "    # Detach and enable gradient tracking\n",
        "    perturbed_images = perturbed_images.detach().clone().requires_grad_()\n",
        "\n",
        "    for _ in range(num_iter):\n",
        "        outputs = model(perturbed_images)\n",
        "        loss = criterion(outputs, labels)\n",
        "        model.zero_grad()\n",
        "        loss.backward()\n",
        "        # Compute gradient sign and update\n",
        "        grad = perturbed_images.grad.data\n",
        "        perturbed_images = perturbed_images + alpha * grad.sign()\n",
        "        # Project back into the epsilon-ball and valid pixel range\n",
        "        perturbed_images = torch.max(torch.min(perturbed_images, ori_images + epsilon), ori_images - epsilon)\n",
        "        perturbed_images = torch.clamp(perturbed_images, 0, 1)\n",
        "        # Detach and re-enable gradient tracking for the next iteration\n",
        "        perturbed_images = perturbed_images.detach().clone().requires_grad_()\n",
        "\n",
        "    return perturbed_images"
      ],
      "metadata": {
        "id": "NRm3n-0-xbf5"
      },
      "execution_count": null,
      "outputs": []
    },
    {
      "cell_type": "code",
      "source": [
        "def test_pgd(model, device, test_loader, epsilon, alpha, num_iter):\n",
        "    model.eval()\n",
        "    correct = 0\n",
        "    pgd_examples = []\n",
        "\n",
        "    for data, target in test_loader:\n",
        "        data, target = data.to(device), target.to(device)\n",
        "        data.requires_grad = True\n",
        "\n",
        "        # Get initial prediction\n",
        "        output = model(data)\n",
        "        init_pred = output.max(1, keepdim=True)[1]\n",
        "\n",
        "        # Only attack if the initial prediction is correct\n",
        "        if init_pred.item() != target.item():\n",
        "            continue\n",
        "\n",
        "        # Generate adversarial example using PGD\n",
        "        perturbed_data = pgd_attack(model, data, target, epsilon, alpha, num_iter)\n",
        "        output_adv = model(perturbed_data)\n",
        "        final_pred = output_adv.max(1, keepdim=True)[1]\n",
        "\n",
        "        if final_pred.item() == target.item():\n",
        "            correct += 1\n",
        "\n",
        "        if len(pgd_examples) < 5:\n",
        "            pgd_ex = perturbed_data.squeeze().detach().cpu().numpy()\n",
        "            pgd_examples.append((init_pred.item(), final_pred.item(), pgd_ex))\n",
        "\n",
        "    final_acc = correct / float(len(test_loader))\n",
        "    print(f\"Epsilon: {epsilon}, Alpha: {alpha}, Iterations: {num_iter} => Accuracy: {correct}/{len(test_loader)} = {final_acc:.4f}\")\n",
        "    return final_acc, pgd_examples\n",
        "\n",
        "# Set device and move model\n",
        "device = torch.device(\"cuda\" if torch.cuda.is_available() else \"cpu\")\n",
        "model.to(device)\n",
        "\n",
        "# Define attack parameters\n",
        "epsilon = 0.3  # maximum perturbation\n",
        "alpha = 0.01   # step size per iteration\n",
        "num_iter = 40  # number of iterations\n",
        "\n",
        "acc, examples = test_pgd(model, device, test_loader, epsilon, alpha, num_iter)\n"
      ],
      "metadata": {
        "colab": {
          "base_uri": "https://localhost:8080/"
        },
        "id": "hfC_iFwBxf2g",
        "outputId": "387bf789-0c0a-4afc-a02b-2576b43ceb14"
      },
      "execution_count": null,
      "outputs": [
        {
          "output_type": "stream",
          "name": "stdout",
          "text": [
            "Epsilon: 0.3, Alpha: 0.01, Iterations: 40 => Accuracy: 0/10000 = 0.0000\n"
          ]
        }
      ]
    },
    {
      "cell_type": "code",
      "source": [
        "fig, axes = plt.subplots(1, len(examples), figsize=(15, 3))\n",
        "for i, (init_pred, final_pred, pgd_ex) in enumerate(examples):\n",
        "    axes[i].imshow(pgd_ex, cmap=\"gray\")\n",
        "    axes[i].set_title(f\"Orig: {init_pred}\\nAdv: {final_pred}\")\n",
        "    axes[i].axis('off')\n",
        "plt.tight_layout()\n",
        "plt.show()\n"
      ],
      "metadata": {
        "colab": {
          "base_uri": "https://localhost:8080/",
          "height": 255
        },
        "id": "hjavJRBxxhxy",
        "outputId": "ea61bc90-59e2-40aa-f4e0-4941a6e3ac20"
      },
      "execution_count": null,
      "outputs": [
        {
          "output_type": "display_data",
          "data": {
            "text/plain": [
              "<Figure size 1500x300 with 5 Axes>"
            ],
            "image/png": "[encoded data removed]"
          },
          "metadata": {}
        }
      ]
    },
    {
      "cell_type": "code",
      "source": [],
      "metadata": {
        "id": "NvAbJhrc3gTh"
      },
      "execution_count": null,
      "outputs": []
    }
  ]
}